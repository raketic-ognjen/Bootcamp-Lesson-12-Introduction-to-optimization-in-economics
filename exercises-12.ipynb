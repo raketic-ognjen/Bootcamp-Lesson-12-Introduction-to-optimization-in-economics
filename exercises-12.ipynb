{
  "cells": [
    {
      "cell_type": "markdown",
      "source": [
        "# <center><font color='Sky blue' style=\"font-size:40px\"><b>Exercises 12</b></font></center>"
      ],
      "metadata": {
        "id": "CUWPemgRB71u"
      },
      "id": "CUWPemgRB71u"
    },
    {
      "cell_type": "markdown",
      "source": [
        "## <font color='Tomato'><b>Minimizing production costs</b></font>"
      ],
      "metadata": {
        "id": "HkXO4xLfCA3G"
      },
      "id": "HkXO4xLfCA3G"
    },
    {
      "cell_type": "markdown",
      "source": [
        "In class we have discussed how firms from different markets determine optimal level of production. But this isn't the end of story."
      ],
      "metadata": {
        "id": "o7jZT_UfCCQW"
      },
      "id": "o7jZT_UfCCQW"
    },
    {
      "cell_type": "markdown",
      "source": [
        "One firm uses only **two production factors** - labour ($L$) and capital ($K$). **Production goal** of this firm is to produce exactly $q=100$ units of its product **at the minimal cost**."
      ],
      "metadata": {
        "id": "YPF7I78HCDxg"
      },
      "id": "YPF7I78HCDxg"
    },
    {
      "cell_type": "markdown",
      "source": [
        "Firms cost function is given by following expression:\n",
        "\n",
        "$$TC=15\\cdot L + 70 \\cdot K$$"
      ],
      "metadata": {
        "id": "BBTSWebXCFY7"
      },
      "id": "BBTSWebXCFY7"
    },
    {
      "cell_type": "markdown",
      "source": [
        "From it we can see that current cost of labour is $15$\\\\$ per hour, while cost of capital is $70$\\\\$ per hour."
      ],
      "metadata": {
        "id": "lfV7z34_CGUZ"
      },
      "id": "lfV7z34_CGUZ"
    },
    {
      "cell_type": "markdown",
      "source": [
        "At the same time **production function** of this firm is given by:\n",
        "\n",
        "$$q=L^{0.3}\\cdot K^{0.7}$$"
      ],
      "metadata": {
        "id": "_62oBcj9CG5Q"
      },
      "id": "_62oBcj9CG5Q"
    },
    {
      "cell_type": "markdown",
      "source": [
        "Where exponents are econometrical estimates of partial elasticities. They tell us by how many percents the production ($q$) will increase if the given factor ($K$ or $L$) increases by 1%."
      ],
      "metadata": {
        "id": "Sstlnw-bCHwK"
      },
      "id": "Sstlnw-bCHwK"
    },
    {
      "cell_type": "markdown",
      "source": [
        "### A"
      ],
      "metadata": {
        "id": "muQL71ANCI8d"
      },
      "id": "muQL71ANCI8d"
    },
    {
      "cell_type": "markdown",
      "source": [
        "a) Define total cost function as **symbolic expression** in Python."
      ],
      "metadata": {
        "id": "aGOIcXiCCJ5Z"
      },
      "id": "aGOIcXiCCJ5Z"
    },
    {
      "cell_type": "markdown",
      "source": [
        "* Since we need to perform **symbolic calculation** we need to import <font color='mediumseagreen'><b>SymPy</b></font>\n",
        "    - GOOGLE COLAB needs an update"
      ],
      "metadata": {
        "id": "W5VFUym8CKwI"
      },
      "id": "W5VFUym8CKwI"
    },
    {
      "cell_type": "code",
      "source": [
        "%pip install sympy -U"
      ],
      "metadata": {
        "id": "vE4-nBk9CAgy",
        "outputId": "1f90d7c6-2c69-4a85-c98a-fbf52d61fa48",
        "colab": {
          "base_uri": "https://localhost:8080/"
        }
      },
      "id": "vE4-nBk9CAgy",
      "execution_count": 52,
      "outputs": [
        {
          "output_type": "stream",
          "name": "stdout",
          "text": [
            "Requirement already satisfied: sympy in /usr/local/lib/python3.10/dist-packages (1.12)\n",
            "Requirement already satisfied: mpmath>=0.19 in /usr/local/lib/python3.10/dist-packages (from sympy) (1.3.0)\n"
          ]
        }
      ]
    },
    {
      "cell_type": "code",
      "source": [
        "import sympy as sp"
      ],
      "metadata": {
        "id": "CMwZNSUMCUAz"
      },
      "id": "CMwZNSUMCUAz",
      "execution_count": 22,
      "outputs": []
    },
    {
      "cell_type": "markdown",
      "source": [
        "* Define **symbolic variables** for both production factors.\n",
        "    * We can state **assumptions** about them:\n",
        "        1. Real numbers (variables are work hours)\n",
        "        2. Non negative numbers (work hours cannot be negative)"
      ],
      "metadata": {
        "id": "NCOBvwDoCRXr"
      },
      "id": "NCOBvwDoCRXr"
    },
    {
      "cell_type": "code",
      "source": [
        "L,K =sp.symbols('L,K',real=True,nonnegative=True)\n",
        "\n",
        "L,K"
      ],
      "metadata": {
        "id": "KNB7AshyCNq7",
        "outputId": "9b1c90a7-c1ca-400c-fedd-76642b7d5f0a",
        "colab": {
          "base_uri": "https://localhost:8080/"
        }
      },
      "id": "KNB7AshyCNq7",
      "execution_count": 23,
      "outputs": [
        {
          "output_type": "execute_result",
          "data": {
            "text/plain": [
              "(L, K)"
            ]
          },
          "metadata": {},
          "execution_count": 23
        }
      ]
    },
    {
      "cell_type": "markdown",
      "source": [
        "* Define total cost function as symbolic expression:"
      ],
      "metadata": {
        "id": "dOL1x8LHEBrD"
      },
      "id": "dOL1x8LHEBrD"
    },
    {
      "cell_type": "code",
      "source": [
        "TC = 15*L+70*K\n",
        "TC"
      ],
      "metadata": {
        "id": "xlwOvg4ED871",
        "outputId": "b32593c7-09bc-4f4f-e7c5-0f879f86b53e",
        "colab": {
          "base_uri": "https://localhost:8080/",
          "height": 38
        }
      },
      "id": "xlwOvg4ED871",
      "execution_count": 24,
      "outputs": [
        {
          "output_type": "execute_result",
          "data": {
            "text/plain": [
              "70*K + 15*L"
            ],
            "text/latex": "$\\displaystyle 70 K + 15 L$"
          },
          "metadata": {},
          "execution_count": 24
        }
      ]
    },
    {
      "cell_type": "markdown",
      "source": [
        "### B"
      ],
      "metadata": {
        "id": "1FRyi0z5EOsT"
      },
      "id": "1FRyi0z5EOsT"
    },
    {
      "cell_type": "markdown",
      "source": [
        "b) Define appropriate **Lagrange function** for this constrained optimization."
      ],
      "metadata": {
        "id": "DgrYKXrwEPz2"
      },
      "id": "DgrYKXrwEPz2"
    },
    {
      "cell_type": "markdown",
      "source": [
        "$$(\\min)\\hspace{2mm}TC=15\\cdot L + 70 \\cdot K$$"
      ],
      "metadata": {
        "id": "4mVZhOppEQjN"
      },
      "id": "4mVZhOppEQjN"
    },
    {
      "cell_type": "markdown",
      "source": [
        "$$\\text{s.t.}\\hspace{5mm}L^{0.3}\\cdot K^{0.7}=100$$"
      ],
      "metadata": {
        "id": "pkklshG8EROc"
      },
      "id": "pkklshG8EROc"
    },
    {
      "cell_type": "markdown",
      "source": [
        "- In this case Lagrange function is:\n",
        "$$La=TC+\\lambda (L^{0.3}\\cdot K^{0.7}-100)$$"
      ],
      "metadata": {
        "id": "xzf2L2xLESSB"
      },
      "id": "xzf2L2xLESSB"
    },
    {
      "cell_type": "markdown",
      "source": [
        "* Define missing symbolic variables\n",
        "    - To create **Greek letters** use their names in English"
      ],
      "metadata": {
        "id": "z7mIkK5-ETV7"
      },
      "id": "z7mIkK5-ETV7"
    },
    {
      "cell_type": "code",
      "source": [
        "l = sp.Symbol('lambda',real=True)\n",
        "l"
      ],
      "metadata": {
        "id": "N8fhA91JEFWV",
        "outputId": "6dfc759a-b5f6-4fae-dcbe-ffdd1208a710",
        "colab": {
          "base_uri": "https://localhost:8080/",
          "height": 38
        }
      },
      "id": "N8fhA91JEFWV",
      "execution_count": 36,
      "outputs": [
        {
          "output_type": "execute_result",
          "data": {
            "text/plain": [
              "lambda"
            ],
            "text/latex": "$\\displaystyle \\lambda$"
          },
          "metadata": {},
          "execution_count": 36
        }
      ]
    },
    {
      "cell_type": "markdown",
      "source": [
        "* Now we are rady to define Lagrange function as symbolic expression"
      ],
      "metadata": {
        "id": "OmeucMvOEjef"
      },
      "id": "OmeucMvOEjef"
    },
    {
      "cell_type": "code",
      "source": [
        "La = TC + l*(L**0.3*K**0.7-100)"
      ],
      "metadata": {
        "id": "yaaPwQMqElJB"
      },
      "id": "yaaPwQMqElJB",
      "execution_count": 37,
      "outputs": []
    },
    {
      "cell_type": "markdown",
      "source": [
        "### C"
      ],
      "metadata": {
        "id": "8acJDAafF_R1"
      },
      "id": "8acJDAafF_R1"
    },
    {
      "cell_type": "markdown",
      "source": [
        "c) Find **gradient** of Lagrange's function."
      ],
      "metadata": {
        "id": "7h_qWaXCF-Bu"
      },
      "id": "7h_qWaXCF-Bu"
    },
    {
      "cell_type": "markdown",
      "source": [
        "* To compute first derivative we use either method <font color='DeepPink'><b>diff</b></font> or function <font color='DodgerBlue'><b>sp.diff</b></font>\n",
        "* State variables with respect to which you want to calculate derivatives and order of derivation $\\to$ output: Gradient (vector of first derivatives)"
      ],
      "metadata": {
        "id": "XcB2DkgvF_yN"
      },
      "id": "XcB2DkgvF_yN"
    },
    {
      "cell_type": "code",
      "source": [
        "G=La.diff(([K,L,l],1))\n",
        "G"
      ],
      "metadata": {
        "id": "En-LuvMeFFCn",
        "outputId": "e05b3800-21b8-4a68-c40f-ec456c3da040",
        "colab": {
          "base_uri": "https://localhost:8080/",
          "height": 47
        }
      },
      "id": "En-LuvMeFFCn",
      "execution_count": 38,
      "outputs": [
        {
          "output_type": "execute_result",
          "data": {
            "text/plain": [
              "[0.7*L**0.3*lambda/K**0.3 + 70, 0.3*K**0.7*lambda/L**0.7 + 15, K**0.7*L**0.3 - 100]"
            ],
            "text/latex": "$\\displaystyle \\left[\\begin{matrix}\\frac{0.7 L^{0.3} \\lambda}{K^{0.3}} + 70 & \\frac{0.3 K^{0.7} \\lambda}{L^{0.7}} + 15 & K^{0.7} L^{0.3} - 100\\end{matrix}\\right]$"
          },
          "metadata": {},
          "execution_count": 38
        }
      ]
    },
    {
      "cell_type": "code",
      "source": [
        "sp.diff(La,([K,L,l],1))"
      ],
      "metadata": {
        "id": "-fUCxKSWGUv5",
        "outputId": "9aea2951-407c-4989-dace-54f858cd6e06",
        "colab": {
          "base_uri": "https://localhost:8080/",
          "height": 47
        }
      },
      "id": "-fUCxKSWGUv5",
      "execution_count": 39,
      "outputs": [
        {
          "output_type": "execute_result",
          "data": {
            "text/plain": [
              "[0.7*L**0.3*lambda/K**0.3 + 70, 0.3*K**0.7*lambda/L**0.7 + 15, K**0.7*L**0.3 - 100]"
            ],
            "text/latex": "$\\displaystyle \\left[\\begin{matrix}\\frac{0.7 L^{0.3} \\lambda}{K^{0.3}} + 70 & \\frac{0.3 K^{0.7} \\lambda}{L^{0.7}} + 15 & K^{0.7} L^{0.3} - 100\\end{matrix}\\right]$"
          },
          "metadata": {},
          "execution_count": 39
        }
      ]
    },
    {
      "cell_type": "markdown",
      "source": [
        "d) Find **optimal solution** from first order conditions."
      ],
      "metadata": {
        "id": "kQykZRYbGxCU"
      },
      "id": "kQykZRYbGxCU"
    },
    {
      "cell_type": "markdown",
      "source": [
        "* First order condition: extreme value lies in point where first derivative is equal to zero\n",
        "$$La'=0$$\n",
        "    * Solve all three equations obtained in list above (**system of equations**)\n",
        "    * They are already in **implicit form**"
      ],
      "metadata": {
        "id": "ktBwGJt6Gzgd"
      },
      "id": "ktBwGJt6Gzgd"
    },
    {
      "cell_type": "code",
      "source": [
        "sol = sp.solve(G,[K,L,l])\n",
        "sol"
      ],
      "metadata": {
        "id": "9vEzHiS2Gt6q",
        "outputId": "d6f7aa86-a05e-4978-a499-e0d508617f77",
        "colab": {
          "base_uri": "https://localhost:8080/"
        }
      },
      "id": "9vEzHiS2Gt6q",
      "execution_count": 40,
      "outputs": [
        {
          "output_type": "execute_result",
          "data": {
            "text/plain": [
              "[(81.2252396356236, 162.450479271247, -81.2252396356236)]"
            ]
          },
          "metadata": {},
          "execution_count": 40
        }
      ]
    },
    {
      "cell_type": "markdown",
      "source": [
        "- Solution is **list of triplets** (since we have three optimization variables)\n",
        "- Let's **unpack** this values into seprate variables"
      ],
      "metadata": {
        "id": "gdKfB6OqG8ra"
      },
      "id": "gdKfB6OqG8ra"
    },
    {
      "cell_type": "code",
      "source": [
        "sol[0]"
      ],
      "metadata": {
        "id": "bCMQH1nRG44i",
        "outputId": "12ec069d-fa22-4714-8fac-25bd2fc86fbd",
        "colab": {
          "base_uri": "https://localhost:8080/"
        }
      },
      "id": "bCMQH1nRG44i",
      "execution_count": 42,
      "outputs": [
        {
          "output_type": "execute_result",
          "data": {
            "text/plain": [
              "(81.2252396356236, 162.450479271247, -81.2252396356236)"
            ]
          },
          "metadata": {},
          "execution_count": 42
        }
      ]
    },
    {
      "cell_type": "code",
      "source": [
        "K_opt,L_opt,l_opt=sol[0]"
      ],
      "metadata": {
        "id": "AEL3tOQEKW3E"
      },
      "id": "AEL3tOQEKW3E",
      "execution_count": 43,
      "outputs": []
    },
    {
      "cell_type": "markdown",
      "source": [
        "### E"
      ],
      "metadata": {
        "id": "bPCPEMDjKdHf"
      },
      "id": "bPCPEMDjKdHf"
    },
    {
      "cell_type": "markdown",
      "source": [
        "e) What is the **optimal** (lowest) **total cost** for production of 100 products?"
      ],
      "metadata": {
        "id": "Fg5Jjm0eKaNE"
      },
      "id": "Fg5Jjm0eKaNE"
    },
    {
      "cell_type": "markdown",
      "source": [
        "* Use method <font color='DeepPink'><b>subs</b></font> to substitute symbolic variables in symbolic expression"
      ],
      "metadata": {
        "id": "iwlrh73VKgVq"
      },
      "id": "iwlrh73VKgVq"
    },
    {
      "cell_type": "code",
      "source": [
        "TC.subs([(K,K_opt),(L,L_opt)])"
      ],
      "metadata": {
        "colab": {
          "base_uri": "https://localhost:8080/",
          "height": 37
        },
        "id": "mJ2gc-bbKZeo",
        "outputId": "a90e2486-155c-4049-98ba-c9b719f66fbd"
      },
      "id": "mJ2gc-bbKZeo",
      "execution_count": 63,
      "outputs": [
        {
          "output_type": "execute_result",
          "data": {
            "text/plain": [
              "8122.52396356236"
            ],
            "text/latex": "$\\displaystyle 8122.52396356236$"
          },
          "metadata": {},
          "execution_count": 63
        }
      ]
    },
    {
      "cell_type": "markdown",
      "source": [
        "f) Solve the same problem **numerically**. If you have done everything correct solutions should coincide (up to the rounding error)."
      ],
      "metadata": {
        "id": "RUlSmWiGLMay"
      },
      "id": "RUlSmWiGLMay"
    },
    {
      "cell_type": "markdown",
      "source": [
        "* How we can perform the optimization?\n",
        "    - **Analytically** (symbolically) - step-by-step via FOC\n",
        "    - **Numerically** - with some algorithm which guesses optimal solution based on some method"
      ],
      "metadata": {
        "id": "rV3mwXDxLNVa"
      },
      "id": "rV3mwXDxLNVa"
    },
    {
      "cell_type": "markdown",
      "source": [
        "#### Side Note: Maximization vs Minimization"
      ],
      "metadata": {
        "id": "P3c4Y7o5LOgO"
      },
      "id": "P3c4Y7o5LOgO"
    },
    {
      "cell_type": "markdown",
      "source": [
        "* Optimization functions are written **only for minimization**. Is this a **problem**?\n",
        "* Optimization **theory** states that:\n",
        "$$(max) F = (min) -F$$"
      ],
      "metadata": {
        "id": "oJEhrn6RLPkY"
      },
      "id": "oJEhrn6RLPkY"
    },
    {
      "cell_type": "markdown",
      "source": [
        "![Untitled.png](data:image/png;base64,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)"
      ],
      "metadata": {
        "id": "AHAtvwNCLQs7"
      },
      "id": "AHAtvwNCLQs7"
    },
    {
      "cell_type": "markdown",
      "source": [
        "#### Continue with task f)"
      ],
      "metadata": {
        "id": "zVmfqh5YLeQ8"
      },
      "id": "zVmfqh5YLeQ8"
    },
    {
      "cell_type": "markdown",
      "source": [
        "* To perform numerical optimization you need to import package <font color='mediumseagreen'><b>SciPy - Optimize</b></font>:"
      ],
      "metadata": {
        "id": "TjF5ELL_Lgtk"
      },
      "id": "TjF5ELL_Lgtk"
    },
    {
      "cell_type": "code",
      "source": [
        "import scipy.optimize as sco"
      ],
      "metadata": {
        "id": "OzNWoYDZLINJ"
      },
      "id": "OzNWoYDZLINJ",
      "execution_count": 64,
      "outputs": []
    },
    {
      "cell_type": "markdown",
      "source": [
        "* We commonly use <font color='DodgerBlue'><b>sco.minimize</b></font>(goal_function, initial_guess, constraints)"
      ],
      "metadata": {
        "id": "pWazf5t-Llp9"
      },
      "id": "pWazf5t-Llp9"
    },
    {
      "cell_type": "markdown",
      "source": [
        "* Technical notes:\n",
        "    * You need to provide all expressions as numerical **Python functions** (here is convenient to use anonymous, i.e. **lambda functions**)\n",
        "    * For multivariate optimization you need to **treat unknown variable as vector** from which you slice values"
      ],
      "metadata": {
        "id": "cclcm1zOLoGX"
      },
      "id": "cclcm1zOLoGX"
    },
    {
      "cell_type": "markdown",
      "source": [
        "* Now we are ready for numerical optimization:"
      ],
      "metadata": {
        "id": "SR6eRyM9Lo-9"
      },
      "id": "SR6eRyM9Lo-9"
    },
    {
      "cell_type": "code",
      "source": [
        "TC"
      ],
      "metadata": {
        "id": "TIHpzp2vO2ew",
        "outputId": "6690ce08-4c8e-4a86-e005-61897e9ea3b5",
        "colab": {
          "base_uri": "https://localhost:8080/",
          "height": 38
        }
      },
      "id": "TIHpzp2vO2ew",
      "execution_count": 65,
      "outputs": [
        {
          "output_type": "execute_result",
          "data": {
            "text/plain": [
              "70*K + 15*L"
            ],
            "text/latex": "$\\displaystyle 70 K + 15 L$"
          },
          "metadata": {},
          "execution_count": 65
        }
      ]
    },
    {
      "cell_type": "code",
      "source": [
        "opt = sco.minimize(lambda f: 15*f[0]+70*f[1],\n",
        "                   (50,50),\n",
        "                    constraints=dict(type='eq',\n",
        "                                     fun= lambda f: f[0]**0.03*f[1]**0.7-100))"
      ],
      "metadata": {
        "id": "w0prHOGBLlFa"
      },
      "id": "w0prHOGBLlFa",
      "execution_count": 77,
      "outputs": []
    },
    {
      "cell_type": "code",
      "source": [
        "opt"
      ],
      "metadata": {
        "colab": {
          "base_uri": "https://localhost:8080/"
        },
        "id": "FEwKgqOnM5Km",
        "outputId": "ac77be1b-6dc2-4d24-84c4-5fb1849f6fb2"
      },
      "id": "FEwKgqOnM5Km",
      "execution_count": 78,
      "outputs": [
        {
          "output_type": "execute_result",
          "data": {
            "text/plain": [
              " message: Optimization terminated successfully\n",
              " success: True\n",
              "  status: 0\n",
              "     fun: 42832.52551045068\n",
              "       x: [ 1.174e+02  5.867e+02]\n",
              "     nit: 9\n",
              "     jac: [ 1.500e+01  7.000e+01]\n",
              "    nfev: 28\n",
              "    njev: 9"
            ]
          },
          "metadata": {},
          "execution_count": 78
        }
      ]
    },
    {
      "cell_type": "markdown",
      "source": [
        "- Result is an object called ***Optimization result***\n",
        "- It behaves like a dictionary (so with appropriate key we can easily extract information that we desire from it)"
      ],
      "metadata": {
        "id": "yyHsBP8qM1yE"
      },
      "id": "yyHsBP8qM1yE"
    },
    {
      "cell_type": "code",
      "source": [
        "opt.fun"
      ],
      "metadata": {
        "colab": {
          "base_uri": "https://localhost:8080/"
        },
        "id": "hfvZMhs4OCNH",
        "outputId": "38f5316d-a561-413f-f4bf-abf76796b54c"
      },
      "id": "hfvZMhs4OCNH",
      "execution_count": 70,
      "outputs": [
        {
          "output_type": "execute_result",
          "data": {
            "text/plain": [
              "42832.52551045068"
            ]
          },
          "metadata": {},
          "execution_count": 70
        }
      ]
    },
    {
      "cell_type": "code",
      "source": [
        "opt.x"
      ],
      "metadata": {
        "colab": {
          "base_uri": "https://localhost:8080/"
        },
        "id": "pqFpWI6NODAW",
        "outputId": "7c8055ce-4466-45a2-ff49-3a3d3a97e1b3"
      },
      "id": "pqFpWI6NODAW",
      "execution_count": 60,
      "outputs": [
        {
          "output_type": "execute_result",
          "data": {
            "text/plain": [
              "array([117.3503585 , 586.74671619])"
            ]
          },
          "metadata": {},
          "execution_count": 60
        }
      ]
    }
  ],
  "metadata": {
    "kernelspec": {
      "display_name": "Python 3",
      "language": "python",
      "name": "python3"
    },
    "language_info": {
      "codemirror_mode": {
        "name": "ipython",
        "version": 3
      },
      "file_extension": ".py",
      "mimetype": "text/x-python",
      "name": "python",
      "nbconvert_exporter": "python",
      "pygments_lexer": "ipython3",
      "version": "3.10.12"
    },
    "papermill": {
      "default_parameters": {},
      "duration": 9.312197,
      "end_time": "2023-08-12T09:15:10.146616",
      "environment_variables": {},
      "exception": null,
      "input_path": "__notebook__.ipynb",
      "output_path": "__notebook__.ipynb",
      "parameters": {},
      "start_time": "2023-08-12T09:15:00.834419",
      "version": "2.4.0"
    },
    "colab": {
      "provenance": []
    }
  },
  "nbformat": 4,
  "nbformat_minor": 5
}