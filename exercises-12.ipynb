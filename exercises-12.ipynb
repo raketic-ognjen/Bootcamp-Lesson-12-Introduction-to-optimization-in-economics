{
  "cells": [
    {
      "cell_type": "markdown",
      "source": [
        "# <center><font color='Sky blue' style=\"font-size:40px\"><b>Exercises 12</b></font></center>"
      ],
      "metadata": {
        "id": "CUWPemgRB71u"
      },
      "id": "CUWPemgRB71u"
    },
    {
      "cell_type": "markdown",
      "source": [
        "## <font color='Tomato'><b>Minimizing production costs</b></font>"
      ],
      "metadata": {
        "id": "HkXO4xLfCA3G"
      },
      "id": "HkXO4xLfCA3G"
    },
    {
      "cell_type": "markdown",
      "source": [
        "In class we have discussed how firms from different markets determine optimal level of production. But this isn't the end of story."
      ],
      "metadata": {
        "id": "o7jZT_UfCCQW"
      },
      "id": "o7jZT_UfCCQW"
    },
    {
      "cell_type": "markdown",
      "source": [
        "One firm uses only **two production factors** - labour ($L$) and capital ($K$). **Production goal** of this firm is to produce exactly $q=100$ units of its product **at the minimal cost**."
      ],
      "metadata": {
        "id": "YPF7I78HCDxg"
      },
      "id": "YPF7I78HCDxg"
    },
    {
      "cell_type": "markdown",
      "source": [
        "Firms cost function is given by following expression:\n",
        "\n",
        "$$TC=15\\cdot L + 70 \\cdot K$$"
      ],
      "metadata": {
        "id": "BBTSWebXCFY7"
      },
      "id": "BBTSWebXCFY7"
    },
    {
      "cell_type": "markdown",
      "source": [
        "From it we can see that current cost of labour is $15$\\\\$ per hour, while cost of capital is $70$\\\\$ per hour."
      ],
      "metadata": {
        "id": "lfV7z34_CGUZ"
      },
      "id": "lfV7z34_CGUZ"
    },
    {
      "cell_type": "markdown",
      "source": [
        "At the same time **production function** of this firm is given by:\n",
        "\n",
        "$$q=L^{0.3}\\cdot K^{0.7}$$"
      ],
      "metadata": {
        "id": "_62oBcj9CG5Q"
      },
      "id": "_62oBcj9CG5Q"
    },
    {
      "cell_type": "markdown",
      "source": [
        "Where exponents are econometrical estimates of partial elasticities. They tell us by how many percents the production ($q$) will increase if the given factor ($K$ or $L$) increases by 1%."
      ],
      "metadata": {
        "id": "Sstlnw-bCHwK"
      },
      "id": "Sstlnw-bCHwK"
    },
    {
      "cell_type": "markdown",
      "source": [
        "### A"
      ],
      "metadata": {
        "id": "muQL71ANCI8d"
      },
      "id": "muQL71ANCI8d"
    },
    {
      "cell_type": "markdown",
      "source": [
        "a) Define total cost function as **symbolic expression** in Python."
      ],
      "metadata": {
        "id": "aGOIcXiCCJ5Z"
      },
      "id": "aGOIcXiCCJ5Z"
    },
    {
      "cell_type": "markdown",
      "source": [
        "* Since we need to perform **symbolic calculation** we need to import <font color='mediumseagreen'><b>SymPy</b></font>\n",
        "    - GOOGLE COLAB needs an update"
      ],
      "metadata": {
        "id": "W5VFUym8CKwI"
      },
      "id": "W5VFUym8CKwI"
    },
    {
      "cell_type": "code",
      "source": [
        "%pip install sympy -U"
      ],
      "metadata": {
        "id": "vE4-nBk9CAgy",
        "outputId": "48c26901-1e1b-4d94-8f0c-bb3f6a3b92f8",
        "colab": {
          "base_uri": "https://localhost:8080/"
        }
      },
      "id": "vE4-nBk9CAgy",
      "execution_count": 1,
      "outputs": [
        {
          "output_type": "stream",
          "name": "stdout",
          "text": [
            "Requirement already satisfied: sympy in /usr/local/lib/python3.10/dist-packages (1.12)\n",
            "Requirement already satisfied: mpmath>=0.19 in /usr/local/lib/python3.10/dist-packages (from sympy) (1.3.0)\n"
          ]
        }
      ]
    },
    {
      "cell_type": "code",
      "source": [
        "import sympy as sp"
      ],
      "metadata": {
        "id": "CMwZNSUMCUAz"
      },
      "id": "CMwZNSUMCUAz",
      "execution_count": 2,
      "outputs": []
    },
    {
      "cell_type": "markdown",
      "source": [
        "* Define **symbolic variables** for both production factors.\n",
        "    * We can state **assumptions** about them:\n",
        "        1. Real numbers (variables are work hours)\n",
        "        2. Non negative numbers (work hours cannot be negative)"
      ],
      "metadata": {
        "id": "NCOBvwDoCRXr"
      },
      "id": "NCOBvwDoCRXr"
    },
    {
      "cell_type": "code",
      "source": [
        "L,K =sp.symbols('L,K',real=True,nonnegative=True)\n",
        "\n",
        "L,K"
      ],
      "metadata": {
        "id": "KNB7AshyCNq7",
        "outputId": "8f16f9ff-077b-4db4-9f11-c887c6200421",
        "colab": {
          "base_uri": "https://localhost:8080/"
        }
      },
      "id": "KNB7AshyCNq7",
      "execution_count": 3,
      "outputs": [
        {
          "output_type": "execute_result",
          "data": {
            "text/plain": [
              "(L, K)"
            ]
          },
          "metadata": {},
          "execution_count": 3
        }
      ]
    },
    {
      "cell_type": "markdown",
      "source": [
        "* Define total cost function as symbolic expression:"
      ],
      "metadata": {
        "id": "dOL1x8LHEBrD"
      },
      "id": "dOL1x8LHEBrD"
    },
    {
      "cell_type": "code",
      "source": [
        "TC = 15*L+70*K\n",
        "TC"
      ],
      "metadata": {
        "id": "xlwOvg4ED871",
        "outputId": "d7ca977d-beed-4db1-d6dd-11c1e6c186cb",
        "colab": {
          "base_uri": "https://localhost:8080/",
          "height": 38
        }
      },
      "id": "xlwOvg4ED871",
      "execution_count": 4,
      "outputs": [
        {
          "output_type": "execute_result",
          "data": {
            "text/plain": [
              "70*K + 15*L"
            ],
            "text/latex": "$\\displaystyle 70 K + 15 L$"
          },
          "metadata": {},
          "execution_count": 4
        }
      ]
    },
    {
      "cell_type": "markdown",
      "source": [
        "### B"
      ],
      "metadata": {
        "id": "1FRyi0z5EOsT"
      },
      "id": "1FRyi0z5EOsT"
    },
    {
      "cell_type": "markdown",
      "source": [
        "b) Define appropriate **Lagrange function** for this constrained optimization."
      ],
      "metadata": {
        "id": "DgrYKXrwEPz2"
      },
      "id": "DgrYKXrwEPz2"
    },
    {
      "cell_type": "markdown",
      "source": [
        "$$(\\min)\\hspace{2mm}TC=15\\cdot L + 70 \\cdot K$$"
      ],
      "metadata": {
        "id": "4mVZhOppEQjN"
      },
      "id": "4mVZhOppEQjN"
    },
    {
      "cell_type": "markdown",
      "source": [
        "$$\\text{s.t.}\\hspace{5mm}L^{0.3}\\cdot K^{0.7}=100$$"
      ],
      "metadata": {
        "id": "pkklshG8EROc"
      },
      "id": "pkklshG8EROc"
    },
    {
      "cell_type": "markdown",
      "source": [
        "- In this case Lagrange function is:\n",
        "$$La=TC+\\lambda (L^{0.3}\\cdot K^{0.7}-100)$$"
      ],
      "metadata": {
        "id": "xzf2L2xLESSB"
      },
      "id": "xzf2L2xLESSB"
    },
    {
      "cell_type": "markdown",
      "source": [
        "* Define missing symbolic variables\n",
        "    - To create **Greek letters** use their names in English"
      ],
      "metadata": {
        "id": "z7mIkK5-ETV7"
      },
      "id": "z7mIkK5-ETV7"
    },
    {
      "cell_type": "code",
      "source": [
        "l = sp.Symbol('lambda',real=True,nonnegative=True)\n",
        "l"
      ],
      "metadata": {
        "id": "N8fhA91JEFWV",
        "outputId": "b75db9fb-681d-4592-e667-80c632b4a6c8",
        "colab": {
          "base_uri": "https://localhost:8080/",
          "height": 38
        }
      },
      "id": "N8fhA91JEFWV",
      "execution_count": 5,
      "outputs": [
        {
          "output_type": "execute_result",
          "data": {
            "text/plain": [
              "lambda"
            ],
            "text/latex": "$\\displaystyle \\lambda$"
          },
          "metadata": {},
          "execution_count": 5
        }
      ]
    },
    {
      "cell_type": "markdown",
      "source": [
        "* Now we are rady to define Lagrange function as symbolic expression"
      ],
      "metadata": {
        "id": "OmeucMvOEjef"
      },
      "id": "OmeucMvOEjef"
    },
    {
      "cell_type": "code",
      "source": [
        "La = TC + l*(L**0.3*K**0.7-100)"
      ],
      "metadata": {
        "id": "yaaPwQMqElJB"
      },
      "id": "yaaPwQMqElJB",
      "execution_count": 6,
      "outputs": []
    },
    {
      "cell_type": "markdown",
      "source": [
        "### C"
      ],
      "metadata": {
        "id": "8acJDAafF_R1"
      },
      "id": "8acJDAafF_R1"
    },
    {
      "cell_type": "markdown",
      "source": [
        "c) Find **gradient** of Lagrange's function."
      ],
      "metadata": {
        "id": "7h_qWaXCF-Bu"
      },
      "id": "7h_qWaXCF-Bu"
    },
    {
      "cell_type": "markdown",
      "source": [
        "* To compute first derivative we use either method <font color='DeepPink'><b>diff</b></font> or function <font color='DodgerBlue'><b>sp.diff</b></font>\n",
        "* State variables with respect to which you want to calculate derivatives and order of derivation $\\to$ output: Gradient (vector of first derivatives)"
      ],
      "metadata": {
        "id": "XcB2DkgvF_yN"
      },
      "id": "XcB2DkgvF_yN"
    },
    {
      "cell_type": "code",
      "source": [
        "G=La.diff(([K,L,l],1))\n",
        "G"
      ],
      "metadata": {
        "id": "En-LuvMeFFCn",
        "outputId": "2968f55e-c193-4e96-ef50-c9086ac4b1a1",
        "colab": {
          "base_uri": "https://localhost:8080/",
          "height": 47
        }
      },
      "id": "En-LuvMeFFCn",
      "execution_count": 7,
      "outputs": [
        {
          "output_type": "execute_result",
          "data": {
            "text/plain": [
              "[0.7*L**0.3*lambda/K**0.3 + 70, 0.3*K**0.7*lambda/L**0.7 + 15, K**0.7*L**0.3 - 100]"
            ],
            "text/latex": "$\\displaystyle \\left[\\begin{matrix}\\frac{0.7 L^{0.3} \\lambda}{K^{0.3}} + 70 & \\frac{0.3 K^{0.7} \\lambda}{L^{0.7}} + 15 & K^{0.7} L^{0.3} - 100\\end{matrix}\\right]$"
          },
          "metadata": {},
          "execution_count": 7
        }
      ]
    },
    {
      "cell_type": "code",
      "source": [
        "sp.diff(La,([K,L,l],1))"
      ],
      "metadata": {
        "id": "-fUCxKSWGUv5",
        "outputId": "502dde72-3a9e-466d-876f-3b7a2363d4b9",
        "colab": {
          "base_uri": "https://localhost:8080/",
          "height": 47
        }
      },
      "id": "-fUCxKSWGUv5",
      "execution_count": 8,
      "outputs": [
        {
          "output_type": "execute_result",
          "data": {
            "text/plain": [
              "[0.7*L**0.3*lambda/K**0.3 + 70, 0.3*K**0.7*lambda/L**0.7 + 15, K**0.7*L**0.3 - 100]"
            ],
            "text/latex": "$\\displaystyle \\left[\\begin{matrix}\\frac{0.7 L^{0.3} \\lambda}{K^{0.3}} + 70 & \\frac{0.3 K^{0.7} \\lambda}{L^{0.7}} + 15 & K^{0.7} L^{0.3} - 100\\end{matrix}\\right]$"
          },
          "metadata": {},
          "execution_count": 8
        }
      ]
    },
    {
      "cell_type": "markdown",
      "source": [
        "d) Find **optimal solution** from first order conditions."
      ],
      "metadata": {
        "id": "kQykZRYbGxCU"
      },
      "id": "kQykZRYbGxCU"
    },
    {
      "cell_type": "markdown",
      "source": [
        "* First order condition: extreme value lies in point where first derivative is equal to zero\n",
        "$$La'=0$$\n",
        "    * Solve all three equations obtained in list above (**system of equations**)\n",
        "    * They are already in **implicit form**"
      ],
      "metadata": {
        "id": "ktBwGJt6Gzgd"
      },
      "id": "ktBwGJt6Gzgd"
    },
    {
      "cell_type": "code",
      "source": [
        "sol = sp.solve(G,[K,L,l])\n",
        "sol"
      ],
      "metadata": {
        "id": "9vEzHiS2Gt6q",
        "outputId": "0795aaef-f485-4410-a615-fbef655df823",
        "colab": {
          "base_uri": "https://localhost:8080/"
        }
      },
      "id": "9vEzHiS2Gt6q",
      "execution_count": 20,
      "outputs": [
        {
          "output_type": "execute_result",
          "data": {
            "text/plain": [
              "[]"
            ]
          },
          "metadata": {},
          "execution_count": 20
        }
      ]
    },
    {
      "cell_type": "markdown",
      "source": [
        "- Solution is **list of triplets** (since we have three optimization variables)\n",
        "- Let's **unpack** this values into seprate variables"
      ],
      "metadata": {
        "id": "gdKfB6OqG8ra"
      },
      "id": "gdKfB6OqG8ra"
    },
    {
      "cell_type": "code",
      "source": [
        "sol[0]"
      ],
      "metadata": {
        "id": "bCMQH1nRG44i",
        "outputId": "208358f9-56af-4c2a-cce4-b337e620c963",
        "colab": {
          "base_uri": "https://localhost:8080/",
          "height": 175
        }
      },
      "id": "bCMQH1nRG44i",
      "execution_count": 16,
      "outputs": [
        {
          "output_type": "error",
          "ename": "IndexError",
          "evalue": "ignored",
          "traceback": [
            "\u001b[0;31m---------------------------------------------------------------------------\u001b[0m",
            "\u001b[0;31mIndexError\u001b[0m                                Traceback (most recent call last)",
            "\u001b[0;32m<ipython-input-16-6ffd1ffb4713>\u001b[0m in \u001b[0;36m<cell line: 1>\u001b[0;34m()\u001b[0m\n\u001b[0;32m----> 1\u001b[0;31m \u001b[0msol\u001b[0m\u001b[0;34m[\u001b[0m\u001b[0;36m0\u001b[0m\u001b[0;34m]\u001b[0m\u001b[0;34m\u001b[0m\u001b[0;34m\u001b[0m\u001b[0m\n\u001b[0m",
            "\u001b[0;31mIndexError\u001b[0m: list index out of range"
          ]
        }
      ]
    },
    {
      "cell_type": "markdown",
      "source": [],
      "metadata": {
        "id": "B-d_BiBuG8RK"
      },
      "id": "B-d_BiBuG8RK"
    }
  ],
  "metadata": {
    "kernelspec": {
      "display_name": "Python 3",
      "language": "python",
      "name": "python3"
    },
    "language_info": {
      "codemirror_mode": {
        "name": "ipython",
        "version": 3
      },
      "file_extension": ".py",
      "mimetype": "text/x-python",
      "name": "python",
      "nbconvert_exporter": "python",
      "pygments_lexer": "ipython3",
      "version": "3.10.12"
    },
    "papermill": {
      "default_parameters": {},
      "duration": 9.312197,
      "end_time": "2023-08-12T09:15:10.146616",
      "environment_variables": {},
      "exception": null,
      "input_path": "__notebook__.ipynb",
      "output_path": "__notebook__.ipynb",
      "parameters": {},
      "start_time": "2023-08-12T09:15:00.834419",
      "version": "2.4.0"
    },
    "colab": {
      "provenance": []
    }
  },
  "nbformat": 4,
  "nbformat_minor": 5
}